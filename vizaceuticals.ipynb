{
 "cells": [
  {
   "cell_type": "code",
   "execution_count": 3,
   "metadata": {
    "colab": {
     "base_uri": "https://localhost:8080/"
    },
    "executionInfo": {
     "elapsed": 10307,
     "status": "ok",
     "timestamp": 1651032189153,
     "user": {
      "displayName": "Jordan Wells",
      "userId": "11279238104867312655"
     },
     "user_tz": 300
    },
    "id": "QfS-jfv9x399",
    "outputId": "0ed6d8a8-b77f-4eb5-fa9e-fb0ad0b0bd53"
   },
   "outputs": [
    {
     "name": "stdout",
     "output_type": "stream",
     "text": [
      "Requirement already satisfied: geopandas in /usr/local/lib/python3.7/dist-packages (0.10.2)\n",
      "Requirement already satisfied: pandas>=0.25.0 in /usr/local/lib/python3.7/dist-packages (from geopandas) (1.3.5)\n",
      "Requirement already satisfied: fiona>=1.8 in /usr/local/lib/python3.7/dist-packages (from geopandas) (1.8.21)\n",
      "Requirement already satisfied: pyproj>=2.2.0 in /usr/local/lib/python3.7/dist-packages (from geopandas) (3.2.1)\n",
      "Requirement already satisfied: shapely>=1.6 in /usr/local/lib/python3.7/dist-packages (from geopandas) (1.8.1.post1)\n",
      "Requirement already satisfied: munch in /usr/local/lib/python3.7/dist-packages (from fiona>=1.8->geopandas) (2.5.0)\n",
      "Requirement already satisfied: click>=4.0 in /usr/local/lib/python3.7/dist-packages (from fiona>=1.8->geopandas) (7.1.2)\n",
      "Requirement already satisfied: cligj>=0.5 in /usr/local/lib/python3.7/dist-packages (from fiona>=1.8->geopandas) (0.7.2)\n",
      "Requirement already satisfied: setuptools in /usr/local/lib/python3.7/dist-packages (from fiona>=1.8->geopandas) (57.4.0)\n",
      "Requirement already satisfied: click-plugins>=1.0 in /usr/local/lib/python3.7/dist-packages (from fiona>=1.8->geopandas) (1.1.1)\n",
      "Requirement already satisfied: certifi in /usr/local/lib/python3.7/dist-packages (from fiona>=1.8->geopandas) (2021.10.8)\n",
      "Requirement already satisfied: attrs>=17 in /usr/local/lib/python3.7/dist-packages (from fiona>=1.8->geopandas) (21.4.0)\n",
      "Requirement already satisfied: six>=1.7 in /usr/local/lib/python3.7/dist-packages (from fiona>=1.8->geopandas) (1.15.0)\n",
      "Requirement already satisfied: pytz>=2017.3 in /usr/local/lib/python3.7/dist-packages (from pandas>=0.25.0->geopandas) (2022.1)\n",
      "Requirement already satisfied: python-dateutil>=2.7.3 in /usr/local/lib/python3.7/dist-packages (from pandas>=0.25.0->geopandas) (2.8.2)\n",
      "Requirement already satisfied: numpy>=1.17.3 in /usr/local/lib/python3.7/dist-packages (from pandas>=0.25.0->geopandas) (1.21.6)\n",
      "Requirement already satisfied: iso3166 in /usr/local/lib/python3.7/dist-packages (2.0.2)\n"
     ]
    }
   ],
   "source": [
    "\n",
    "import pandas as pd\n",
    "import numpy as np\n",
    "import altair as alt\n",
    "\n",
    "!pip install geopandas\n",
    "import geopandas as gpd\n",
    "\n",
    "!pip install iso3166\n",
    "from iso3166 import countries as iso3166_countries\n",
    "\n",
    "\n",
    "from vega_datasets import data\n",
    "alt.data_transformers.disable_max_rows()\n",
    "\n",
    "from shapely.geometry import Polygon"
   ]
  },
  {
   "cell_type": "markdown",
   "metadata": {
    "id": "EFWD_-2o0Osg"
   },
   "source": [
    "## **Data Processing**\n",
    "**Reading the Data**"
   ]
  },
  {
   "cell_type": "code",
   "execution_count": 10,
   "metadata": {
    "executionInfo": {
     "elapsed": 789,
     "status": "ok",
     "timestamp": 1651032228184,
     "user": {
      "displayName": "Jordan Wells",
      "userId": "11279238104867312655"
     },
     "user_tz": 300
    },
    "id": "YsEBfSRv0M5L"
   },
   "outputs": [],
   "source": [
    "medicine_file = 'Medicines.csv'\n",
    "mortality_file = 'Mortality.csv'\n",
    "\n",
    "df_med = pd.read_csv(medicine_file)\n",
    "df_mort = pd.read_csv(mortality_file)"
   ]
  },
  {
   "cell_type": "markdown",
   "metadata": {
    "id": "NIVGJVfS2lbW"
   },
   "source": [
    "**Choosing Countries, Medicines, and Mortalities to focus on**"
   ]
  },
  {
   "cell_type": "code",
   "execution_count": 11,
   "metadata": {
    "colab": {
     "base_uri": "https://localhost:8080/",
     "height": 206
    },
    "executionInfo": {
     "elapsed": 217,
     "status": "ok",
     "timestamp": 1651032230231,
     "user": {
      "displayName": "Jordan Wells",
      "userId": "11279238104867312655"
     },
     "user_tz": 300
    },
    "id": "mwgHoEjl2ohd",
    "outputId": "e7daf87a-0780-4b5f-eeac-c85f9834ad87"
   },
   "outputs": [
    {
     "data": {
      "text/html": [
       "\n",
       "  <div id=\"df-a46defd4-c602-4311-bddd-eaf45460f71b\">\n",
       "    <div class=\"colab-df-container\">\n",
       "      <div>\n",
       "<style scoped>\n",
       "    .dataframe tbody tr th:only-of-type {\n",
       "        vertical-align: middle;\n",
       "    }\n",
       "\n",
       "    .dataframe tbody tr th {\n",
       "        vertical-align: top;\n",
       "    }\n",
       "\n",
       "    .dataframe thead th {\n",
       "        text-align: right;\n",
       "    }\n",
       "</style>\n",
       "<table border=\"1\" class=\"dataframe\">\n",
       "  <thead>\n",
       "    <tr style=\"text-align: right;\">\n",
       "      <th></th>\n",
       "      <th>VAR</th>\n",
       "      <th>Variable</th>\n",
       "      <th>UNIT</th>\n",
       "      <th>Measure</th>\n",
       "      <th>COU</th>\n",
       "      <th>Country</th>\n",
       "      <th>YEA</th>\n",
       "      <th>Year</th>\n",
       "      <th>Value</th>\n",
       "      <th>Flag Codes</th>\n",
       "      <th>Flags</th>\n",
       "    </tr>\n",
       "  </thead>\n",
       "  <tbody>\n",
       "    <tr>\n",
       "      <th>4234</th>\n",
       "      <td>PHARHORM</td>\n",
       "      <td>H-Systemic hormonal preparations, excluding se...</td>\n",
       "      <td>NBPYEANB</td>\n",
       "      <td>Defined daily dosage per 1 000 inhabitants per...</td>\n",
       "      <td>NOR</td>\n",
       "      <td>Norway</td>\n",
       "      <td>2017</td>\n",
       "      <td>2017</td>\n",
       "      <td>48.2</td>\n",
       "      <td>NaN</td>\n",
       "      <td>NaN</td>\n",
       "    </tr>\n",
       "    <tr>\n",
       "      <th>3761</th>\n",
       "      <td>PHARGENU</td>\n",
       "      <td>G-Genito urinary system and sex hormones</td>\n",
       "      <td>NBPYEANB</td>\n",
       "      <td>Defined daily dosage per 1 000 inhabitants per...</td>\n",
       "      <td>SWE</td>\n",
       "      <td>Sweden</td>\n",
       "      <td>2017</td>\n",
       "      <td>2017</td>\n",
       "      <td>104.7</td>\n",
       "      <td>NaN</td>\n",
       "      <td>NaN</td>\n",
       "    </tr>\n",
       "    <tr>\n",
       "      <th>6744</th>\n",
       "      <td>PHARRESS</td>\n",
       "      <td>R-Respiratory system</td>\n",
       "      <td>NBPYEANB</td>\n",
       "      <td>Defined daily dosage per 1 000 inhabitants per...</td>\n",
       "      <td>NLD</td>\n",
       "      <td>Netherlands</td>\n",
       "      <td>2012</td>\n",
       "      <td>2012</td>\n",
       "      <td>106.2</td>\n",
       "      <td>D</td>\n",
       "      <td>Difference in methodology</td>\n",
       "    </tr>\n",
       "    <tr>\n",
       "      <th>3617</th>\n",
       "      <td>PHARGENU</td>\n",
       "      <td>G-Genito urinary system and sex hormones</td>\n",
       "      <td>NBPYEANB</td>\n",
       "      <td>Defined daily dosage per 1 000 inhabitants per...</td>\n",
       "      <td>DNK</td>\n",
       "      <td>Denmark</td>\n",
       "      <td>2013</td>\n",
       "      <td>2013</td>\n",
       "      <td>101.2</td>\n",
       "      <td>NaN</td>\n",
       "      <td>NaN</td>\n",
       "    </tr>\n",
       "    <tr>\n",
       "      <th>145</th>\n",
       "      <td>PHARALIM</td>\n",
       "      <td>A-Alimentary tract and metabolism</td>\n",
       "      <td>NBPYEANB</td>\n",
       "      <td>Defined daily dosage per 1 000 inhabitants per...</td>\n",
       "      <td>NLD</td>\n",
       "      <td>Netherlands</td>\n",
       "      <td>2016</td>\n",
       "      <td>2016</td>\n",
       "      <td>305.8</td>\n",
       "      <td>D</td>\n",
       "      <td>Difference in methodology</td>\n",
       "    </tr>\n",
       "  </tbody>\n",
       "</table>\n",
       "</div>\n",
       "      <button class=\"colab-df-convert\" onclick=\"convertToInteractive('df-a46defd4-c602-4311-bddd-eaf45460f71b')\"\n",
       "              title=\"Convert this dataframe to an interactive table.\"\n",
       "              style=\"display:none;\">\n",
       "        \n",
       "  <svg xmlns=\"http://www.w3.org/2000/svg\" height=\"24px\"viewBox=\"0 0 24 24\"\n",
       "       width=\"24px\">\n",
       "    <path d=\"M0 0h24v24H0V0z\" fill=\"none\"/>\n",
       "    <path d=\"M18.56 5.44l.94 2.06.94-2.06 2.06-.94-2.06-.94-.94-2.06-.94 2.06-2.06.94zm-11 1L8.5 8.5l.94-2.06 2.06-.94-2.06-.94L8.5 2.5l-.94 2.06-2.06.94zm10 10l.94 2.06.94-2.06 2.06-.94-2.06-.94-.94-2.06-.94 2.06-2.06.94z\"/><path d=\"M17.41 7.96l-1.37-1.37c-.4-.4-.92-.59-1.43-.59-.52 0-1.04.2-1.43.59L10.3 9.45l-7.72 7.72c-.78.78-.78 2.05 0 2.83L4 21.41c.39.39.9.59 1.41.59.51 0 1.02-.2 1.41-.59l7.78-7.78 2.81-2.81c.8-.78.8-2.07 0-2.86zM5.41 20L4 18.59l7.72-7.72 1.47 1.35L5.41 20z\"/>\n",
       "  </svg>\n",
       "      </button>\n",
       "      \n",
       "  <style>\n",
       "    .colab-df-container {\n",
       "      display:flex;\n",
       "      flex-wrap:wrap;\n",
       "      gap: 12px;\n",
       "    }\n",
       "\n",
       "    .colab-df-convert {\n",
       "      background-color: #E8F0FE;\n",
       "      border: none;\n",
       "      border-radius: 50%;\n",
       "      cursor: pointer;\n",
       "      display: none;\n",
       "      fill: #1967D2;\n",
       "      height: 32px;\n",
       "      padding: 0 0 0 0;\n",
       "      width: 32px;\n",
       "    }\n",
       "\n",
       "    .colab-df-convert:hover {\n",
       "      background-color: #E2EBFA;\n",
       "      box-shadow: 0px 1px 2px rgba(60, 64, 67, 0.3), 0px 1px 3px 1px rgba(60, 64, 67, 0.15);\n",
       "      fill: #174EA6;\n",
       "    }\n",
       "\n",
       "    [theme=dark] .colab-df-convert {\n",
       "      background-color: #3B4455;\n",
       "      fill: #D2E3FC;\n",
       "    }\n",
       "\n",
       "    [theme=dark] .colab-df-convert:hover {\n",
       "      background-color: #434B5C;\n",
       "      box-shadow: 0px 1px 3px 1px rgba(0, 0, 0, 0.15);\n",
       "      filter: drop-shadow(0px 1px 2px rgba(0, 0, 0, 0.3));\n",
       "      fill: #FFFFFF;\n",
       "    }\n",
       "  </style>\n",
       "\n",
       "      <script>\n",
       "        const buttonEl =\n",
       "          document.querySelector('#df-a46defd4-c602-4311-bddd-eaf45460f71b button.colab-df-convert');\n",
       "        buttonEl.style.display =\n",
       "          google.colab.kernel.accessAllowed ? 'block' : 'none';\n",
       "\n",
       "        async function convertToInteractive(key) {\n",
       "          const element = document.querySelector('#df-a46defd4-c602-4311-bddd-eaf45460f71b');\n",
       "          const dataTable =\n",
       "            await google.colab.kernel.invokeFunction('convertToInteractive',\n",
       "                                                     [key], {});\n",
       "          if (!dataTable) return;\n",
       "\n",
       "          const docLinkHtml = 'Like what you see? Visit the ' +\n",
       "            '<a target=\"_blank\" href=https://colab.research.google.com/notebooks/data_table.ipynb>data table notebook</a>'\n",
       "            + ' to learn more about interactive tables.';\n",
       "          element.innerHTML = '';\n",
       "          dataTable['output_type'] = 'display_data';\n",
       "          await google.colab.output.renderOutput(dataTable, element);\n",
       "          const docLink = document.createElement('div');\n",
       "          docLink.innerHTML = docLinkHtml;\n",
       "          element.appendChild(docLink);\n",
       "        }\n",
       "      </script>\n",
       "    </div>\n",
       "  </div>\n",
       "  "
      ],
      "text/plain": [
       "           VAR                                           Variable      UNIT  \\\n",
       "4234  PHARHORM  H-Systemic hormonal preparations, excluding se...  NBPYEANB   \n",
       "3761  PHARGENU           G-Genito urinary system and sex hormones  NBPYEANB   \n",
       "6744  PHARRESS                               R-Respiratory system  NBPYEANB   \n",
       "3617  PHARGENU           G-Genito urinary system and sex hormones  NBPYEANB   \n",
       "145   PHARALIM                  A-Alimentary tract and metabolism  NBPYEANB   \n",
       "\n",
       "                                                Measure  COU      Country  \\\n",
       "4234  Defined daily dosage per 1 000 inhabitants per...  NOR       Norway   \n",
       "3761  Defined daily dosage per 1 000 inhabitants per...  SWE       Sweden   \n",
       "6744  Defined daily dosage per 1 000 inhabitants per...  NLD  Netherlands   \n",
       "3617  Defined daily dosage per 1 000 inhabitants per...  DNK      Denmark   \n",
       "145   Defined daily dosage per 1 000 inhabitants per...  NLD  Netherlands   \n",
       "\n",
       "       YEA  Year  Value Flag Codes                      Flags  \n",
       "4234  2017  2017   48.2        NaN                        NaN  \n",
       "3761  2017  2017  104.7        NaN                        NaN  \n",
       "6744  2012  2012  106.2          D  Difference in methodology  \n",
       "3617  2013  2013  101.2        NaN                        NaN  \n",
       "145   2016  2016  305.8          D  Difference in methodology  "
      ]
     },
     "execution_count": 11,
     "metadata": {},
     "output_type": "execute_result"
    }
   ],
   "source": [
    "#List of all the countries in Europe to use for the worldmap\n",
    "countries = [\"Turkey\", 'Germany', 'United Kingdom', 'France', 'Italy', 'Spain', 'Ukraine', 'Poland',\n",
    "                 'Netherlands', 'Belgium',  'Greece', 'Portugal', 'Sweden', 'Hungary',  'Austria', \n",
    "                  'Switzerland', 'Denmark', 'Finland', 'Norway', 'Ireland',\n",
    "                 'Lithuania']\n",
    "                 \n",
    "all_of_europe = [\"Turkey\", 'Germany', 'United Kingdom', 'France', 'Italy', 'Spain', 'Ukraine', 'Poland', 'Romania', \n",
    "                 'Netherlands', 'Belgium', 'Czechia', 'Greece', 'Portugal', 'Sweden', 'Hungary', 'Belarus', 'Austria', \n",
    "                 'Serbia', 'Switzerland', 'Bulgaria', 'Denmark', 'Finland', 'Slovakia', 'Norway', 'Ireland', 'Croatia', \n",
    "                 'Moldova', 'Bosnia and Herzegovina', 'Albania', 'Lithuania', 'North Macedonia', 'Slovenia', 'Latvia', 'Estonia', \n",
    "                 'Montenegro', 'Luxembourg', 'Malta']\n",
    "\n",
    "years = [2010,2011,2012,2013,2014,2015,2016,2017,2018,2019,2020]\n",
    "\n",
    "#Chose general pharmaceuticals rather than specific ones to give a broad overview. Makes it easier to connect the cause of mortality and the pharmaceutical\n",
    "#product\n",
    "medicine = ['Total pharmaceutical sales','A-Alimentary tract and metabolism','B-Blood and blood forming organs','C-Cardiovascular system',\n",
    "            'G-Genito urinary system and sex hormones','H-Systemic hormonal preparations, excluding sex hormones and insulins',\n",
    "            'J-Antiin\"fectives for systemic use','N-Nervous system','R-Respiratory system']\n",
    "\n",
    "#Connected the causes of mortality with the different pharmaceutical product \n",
    "mortality = ['All causes of death','Certain infectious and parasitic diseases','Diseases of the nervous system',\n",
    "             'Diseases of the blood and blood-forming organs','Endocrine, nutritional and metabolic diseases','Diseases of the respiratory system',\n",
    "             'Diseases of the circulatory system','Mental and behavioural disorders']\n",
    "\n",
    "#Chose to limit the measure of pharmaceutical and mortality rate to make it more standardized \n",
    "med_measure = ['Defined daily dosage per 1 000 inhabitants per day']\n",
    "mort_measure =['Deaths per 100 000 population (standardised rates)']\n",
    "\n",
    "def reduce_dataframe(df, country_list, variable_list, measure_list):\n",
    "  df = df[(df[\"Country\"].isin(country_list)) & (df[\"Variable\"].isin(variable_list)) & (df[\"Measure\"].isin(measure_list)) & (df[\"Year\"].isin(years))]\n",
    "  return df\n",
    "\n",
    "\n",
    "df_med = reduce_dataframe(df_med, countries, medicine, med_measure)\n",
    "df_mort = reduce_dataframe(df_mort, countries, mortality, mort_measure)\n",
    "\n",
    "\n",
    "df_med.sample(5)\n"
   ]
  },
  {
   "cell_type": "markdown",
   "metadata": {
    "id": "E51B4oLZKYj8"
   },
   "source": [
    "**Appending necessary iso3166 information**"
   ]
  },
  {
   "cell_type": "code",
   "execution_count": 12,
   "metadata": {
    "colab": {
     "base_uri": "https://localhost:8080/",
     "height": 206
    },
    "executionInfo": {
     "elapsed": 5,
     "status": "ok",
     "timestamp": 1651032230460,
     "user": {
      "displayName": "Jordan Wells",
      "userId": "11279238104867312655"
     },
     "user_tz": 300
    },
    "id": "PWp7fjR8adbM",
    "outputId": "e0b380e6-471a-46d0-95aa-0a361f85a0f4"
   },
   "outputs": [
    {
     "data": {
      "text/html": [
       "\n",
       "  <div id=\"df-a69746cd-ea74-4b9e-9952-46581cbecc10\">\n",
       "    <div class=\"colab-df-container\">\n",
       "      <div>\n",
       "<style scoped>\n",
       "    .dataframe tbody tr th:only-of-type {\n",
       "        vertical-align: middle;\n",
       "    }\n",
       "\n",
       "    .dataframe tbody tr th {\n",
       "        vertical-align: top;\n",
       "    }\n",
       "\n",
       "    .dataframe thead th {\n",
       "        text-align: right;\n",
       "    }\n",
       "</style>\n",
       "<table border=\"1\" class=\"dataframe\">\n",
       "  <thead>\n",
       "    <tr style=\"text-align: right;\">\n",
       "      <th></th>\n",
       "      <th>VAR</th>\n",
       "      <th>Variable</th>\n",
       "      <th>UNIT</th>\n",
       "      <th>Measure</th>\n",
       "      <th>COU</th>\n",
       "      <th>Country</th>\n",
       "      <th>YEA</th>\n",
       "      <th>Year</th>\n",
       "      <th>Value</th>\n",
       "      <th>Flag Codes</th>\n",
       "      <th>Flags</th>\n",
       "      <th>id</th>\n",
       "    </tr>\n",
       "  </thead>\n",
       "  <tbody>\n",
       "    <tr>\n",
       "      <th>158</th>\n",
       "      <td>PHARALIM</td>\n",
       "      <td>A-Alimentary tract and metabolism</td>\n",
       "      <td>NBPYEANB</td>\n",
       "      <td>Defined daily dosage per 1 000 inhabitants per...</td>\n",
       "      <td>NOR</td>\n",
       "      <td>Norway</td>\n",
       "      <td>2019</td>\n",
       "      <td>2019</td>\n",
       "      <td>263.1</td>\n",
       "      <td>NaN</td>\n",
       "      <td>NaN</td>\n",
       "      <td>578</td>\n",
       "    </tr>\n",
       "    <tr>\n",
       "      <th>1197</th>\n",
       "      <td>PHARBLOO</td>\n",
       "      <td>B-Blood and blood forming organs</td>\n",
       "      <td>NBPYEANB</td>\n",
       "      <td>Defined daily dosage per 1 000 inhabitants per...</td>\n",
       "      <td>GBR</td>\n",
       "      <td>United Kingdom of Great Britain and Northern I...</td>\n",
       "      <td>2014</td>\n",
       "      <td>2014</td>\n",
       "      <td>193.4</td>\n",
       "      <td>D</td>\n",
       "      <td>Difference in methodology</td>\n",
       "      <td>826</td>\n",
       "    </tr>\n",
       "    <tr>\n",
       "      <th>4269</th>\n",
       "      <td>PHARHORM</td>\n",
       "      <td>H-Systemic hormonal preparations, excluding se...</td>\n",
       "      <td>NBPYEANB</td>\n",
       "      <td>Defined daily dosage per 1 000 inhabitants per...</td>\n",
       "      <td>ESP</td>\n",
       "      <td>Spain</td>\n",
       "      <td>2020</td>\n",
       "      <td>2020</td>\n",
       "      <td>45.9</td>\n",
       "      <td>P</td>\n",
       "      <td>Provisional value</td>\n",
       "      <td>724</td>\n",
       "    </tr>\n",
       "    <tr>\n",
       "      <th>59081</th>\n",
       "      <td>PHARCARV</td>\n",
       "      <td>C-Cardiovascular system</td>\n",
       "      <td>NBPYEANB</td>\n",
       "      <td>Defined daily dosage per 1 000 inhabitants per...</td>\n",
       "      <td>LTU</td>\n",
       "      <td>Lithuania</td>\n",
       "      <td>2017</td>\n",
       "      <td>2017</td>\n",
       "      <td>454.7</td>\n",
       "      <td>NaN</td>\n",
       "      <td>NaN</td>\n",
       "      <td>440</td>\n",
       "    </tr>\n",
       "    <tr>\n",
       "      <th>4264</th>\n",
       "      <td>PHARHORM</td>\n",
       "      <td>H-Systemic hormonal preparations, excluding se...</td>\n",
       "      <td>NBPYEANB</td>\n",
       "      <td>Defined daily dosage per 1 000 inhabitants per...</td>\n",
       "      <td>ESP</td>\n",
       "      <td>Spain</td>\n",
       "      <td>2015</td>\n",
       "      <td>2015</td>\n",
       "      <td>35.0</td>\n",
       "      <td>D</td>\n",
       "      <td>Difference in methodology</td>\n",
       "      <td>724</td>\n",
       "    </tr>\n",
       "  </tbody>\n",
       "</table>\n",
       "</div>\n",
       "      <button class=\"colab-df-convert\" onclick=\"convertToInteractive('df-a69746cd-ea74-4b9e-9952-46581cbecc10')\"\n",
       "              title=\"Convert this dataframe to an interactive table.\"\n",
       "              style=\"display:none;\">\n",
       "        \n",
       "  <svg xmlns=\"http://www.w3.org/2000/svg\" height=\"24px\"viewBox=\"0 0 24 24\"\n",
       "       width=\"24px\">\n",
       "    <path d=\"M0 0h24v24H0V0z\" fill=\"none\"/>\n",
       "    <path d=\"M18.56 5.44l.94 2.06.94-2.06 2.06-.94-2.06-.94-.94-2.06-.94 2.06-2.06.94zm-11 1L8.5 8.5l.94-2.06 2.06-.94-2.06-.94L8.5 2.5l-.94 2.06-2.06.94zm10 10l.94 2.06.94-2.06 2.06-.94-2.06-.94-.94-2.06-.94 2.06-2.06.94z\"/><path d=\"M17.41 7.96l-1.37-1.37c-.4-.4-.92-.59-1.43-.59-.52 0-1.04.2-1.43.59L10.3 9.45l-7.72 7.72c-.78.78-.78 2.05 0 2.83L4 21.41c.39.39.9.59 1.41.59.51 0 1.02-.2 1.41-.59l7.78-7.78 2.81-2.81c.8-.78.8-2.07 0-2.86zM5.41 20L4 18.59l7.72-7.72 1.47 1.35L5.41 20z\"/>\n",
       "  </svg>\n",
       "      </button>\n",
       "      \n",
       "  <style>\n",
       "    .colab-df-container {\n",
       "      display:flex;\n",
       "      flex-wrap:wrap;\n",
       "      gap: 12px;\n",
       "    }\n",
       "\n",
       "    .colab-df-convert {\n",
       "      background-color: #E8F0FE;\n",
       "      border: none;\n",
       "      border-radius: 50%;\n",
       "      cursor: pointer;\n",
       "      display: none;\n",
       "      fill: #1967D2;\n",
       "      height: 32px;\n",
       "      padding: 0 0 0 0;\n",
       "      width: 32px;\n",
       "    }\n",
       "\n",
       "    .colab-df-convert:hover {\n",
       "      background-color: #E2EBFA;\n",
       "      box-shadow: 0px 1px 2px rgba(60, 64, 67, 0.3), 0px 1px 3px 1px rgba(60, 64, 67, 0.15);\n",
       "      fill: #174EA6;\n",
       "    }\n",
       "\n",
       "    [theme=dark] .colab-df-convert {\n",
       "      background-color: #3B4455;\n",
       "      fill: #D2E3FC;\n",
       "    }\n",
       "\n",
       "    [theme=dark] .colab-df-convert:hover {\n",
       "      background-color: #434B5C;\n",
       "      box-shadow: 0px 1px 3px 1px rgba(0, 0, 0, 0.15);\n",
       "      filter: drop-shadow(0px 1px 2px rgba(0, 0, 0, 0.3));\n",
       "      fill: #FFFFFF;\n",
       "    }\n",
       "  </style>\n",
       "\n",
       "      <script>\n",
       "        const buttonEl =\n",
       "          document.querySelector('#df-a69746cd-ea74-4b9e-9952-46581cbecc10 button.colab-df-convert');\n",
       "        buttonEl.style.display =\n",
       "          google.colab.kernel.accessAllowed ? 'block' : 'none';\n",
       "\n",
       "        async function convertToInteractive(key) {\n",
       "          const element = document.querySelector('#df-a69746cd-ea74-4b9e-9952-46581cbecc10');\n",
       "          const dataTable =\n",
       "            await google.colab.kernel.invokeFunction('convertToInteractive',\n",
       "                                                     [key], {});\n",
       "          if (!dataTable) return;\n",
       "\n",
       "          const docLinkHtml = 'Like what you see? Visit the ' +\n",
       "            '<a target=\"_blank\" href=https://colab.research.google.com/notebooks/data_table.ipynb>data table notebook</a>'\n",
       "            + ' to learn more about interactive tables.';\n",
       "          element.innerHTML = '';\n",
       "          dataTable['output_type'] = 'display_data';\n",
       "          await google.colab.output.renderOutput(dataTable, element);\n",
       "          const docLink = document.createElement('div');\n",
       "          docLink.innerHTML = docLinkHtml;\n",
       "          element.appendChild(docLink);\n",
       "        }\n",
       "      </script>\n",
       "    </div>\n",
       "  </div>\n",
       "  "
      ],
      "text/plain": [
       "            VAR                                           Variable      UNIT  \\\n",
       "158    PHARALIM                  A-Alimentary tract and metabolism  NBPYEANB   \n",
       "1197   PHARBLOO                   B-Blood and blood forming organs  NBPYEANB   \n",
       "4269   PHARHORM  H-Systemic hormonal preparations, excluding se...  NBPYEANB   \n",
       "59081  PHARCARV                            C-Cardiovascular system  NBPYEANB   \n",
       "4264   PHARHORM  H-Systemic hormonal preparations, excluding se...  NBPYEANB   \n",
       "\n",
       "                                                 Measure  COU  \\\n",
       "158    Defined daily dosage per 1 000 inhabitants per...  NOR   \n",
       "1197   Defined daily dosage per 1 000 inhabitants per...  GBR   \n",
       "4269   Defined daily dosage per 1 000 inhabitants per...  ESP   \n",
       "59081  Defined daily dosage per 1 000 inhabitants per...  LTU   \n",
       "4264   Defined daily dosage per 1 000 inhabitants per...  ESP   \n",
       "\n",
       "                                                 Country   YEA  Year  Value  \\\n",
       "158                                               Norway  2019  2019  263.1   \n",
       "1197   United Kingdom of Great Britain and Northern I...  2014  2014  193.4   \n",
       "4269                                               Spain  2020  2020   45.9   \n",
       "59081                                          Lithuania  2017  2017  454.7   \n",
       "4264                                               Spain  2015  2015   35.0   \n",
       "\n",
       "      Flag Codes                      Flags   id  \n",
       "158          NaN                        NaN  578  \n",
       "1197           D  Difference in methodology  826  \n",
       "4269           P          Provisional value  724  \n",
       "59081        NaN                        NaN  440  \n",
       "4264           D  Difference in methodology  724  "
      ]
     },
     "execution_count": 12,
     "metadata": {},
     "output_type": "execute_result"
    }
   ],
   "source": [
    "# Needed to get the correct iso3166 id from country\n",
    "def create_ids_from_countries(df):\n",
    "  country_replacements = {\"United Kingdom\":\"United Kingdom of Great Britain and Northern Ireland\",\n",
    "                          \"Czech Republic\": \"Czechia\",\n",
    "                          \"Korea\": \"Korea, Republic of\",\n",
    "                          \"Slovak Republic\": \"Slovakia\",\n",
    "                          \"Moldova\": \"Moldova, Republic of\"}\n",
    "                          \n",
    "  df = df.replace(country_replacements)\n",
    "  df[\"id\"] = df[\"Country\"].map(lambda x: int(iso3166_countries.get(x).numeric))\n",
    "\n",
    "  return df\n",
    "\n",
    "df_med = create_ids_from_countries(df_med)\n",
    "df_mort = create_ids_from_countries(df_mort)\n",
    "\n",
    "df_med.sample(5)"
   ]
  },
  {
   "cell_type": "code",
   "execution_count": 13,
   "metadata": {
    "executionInfo": {
     "elapsed": 2,
     "status": "ok",
     "timestamp": 1651032230738,
     "user": {
      "displayName": "Jordan Wells",
      "userId": "11279238104867312655"
     },
     "user_tz": 300
    },
    "id": "5b3bjcOUak9n"
   },
   "outputs": [],
   "source": [
    "# Creating a separate dataframe of all European countries to generate the background map\n",
    "\n",
    "df_europe = pd.DataFrame()\n",
    "df_europe[\"Country\"] = all_of_europe\n",
    "df_europe[\"Encoding\"] = 1\n",
    "df_europe = create_ids_from_countries(df_europe)"
   ]
  },
  {
   "cell_type": "code",
   "execution_count": 14,
   "metadata": {
    "executionInfo": {
     "elapsed": 236,
     "status": "ok",
     "timestamp": 1651032231238,
     "user": {
      "displayName": "Jordan Wells",
      "userId": "11279238104867312655"
     },
     "user_tz": 300
    },
    "id": "MStko1celehB"
   },
   "outputs": [],
   "source": [
    "# change polygon geometry data for worldmap so extra territories are gone\n",
    "gdf = gpd.read_file(data.world_110m.url)\n",
    "france_polygon = Polygon([(5.675456754567563, 49.52991879123999), (5.898658986589879, 49.44190574386673), (6.186661866618664, 49.463909005710036), (6.658266582665846, 49.201562422193575), (8.098280982809825, 49.01707353443041), (7.594275942759424, 48.33327985868428), (7.468274682746824, 47.620712686681486), (7.191071910719103, 47.44976426774497), (6.7374673746737415, 47.54116243232488), (6.76986769867699, 47.28727864182508), (6.0390603906039075, 46.725349185518866), (6.021060210602116, 46.273436038429196), (6.499864998649997, 46.42915142993576), (6.841868418684186, 45.990778751672764), (6.802268022680238, 45.7081214649163), (7.097470974709751, 45.33237345497662), (6.748267482674834, 45.02771290637685), (7.0074700747007626, 44.25421362465411), (7.551075510755112, 44.127271729404214), (7.435874358743604, 43.693976726951234), (6.528665286652881, 43.12866215343834), (4.555845558455587, 43.399471529971464), (3.101431014310151, 43.074500278131694), (2.986229862298643, 42.473641973948844), (1.8270182701827196, 42.34331496149228), (0.700207002070016, 42.79522810858194), (0.3366033660336711, 42.58027316595877), (-1.5030150301502943, 43.03387887165175), (-1.9026190261902514, 43.42316735041811), (-1.384213842138422, 44.022333095997624), (-1.1934119341193252, 46.01447457211941), (-2.2266222662226482, 47.063860906185255), (-2.9646296462964585, 47.56993592858154), (-4.491044910449091, 47.95414673153789), (-4.591845918459171, 48.683639489574006), (-3.2958329583295836, 48.90197954940382), (-1.6182161821618024, 48.644710641697344), (-1.9350193501934996, 49.77703234732647), (-0.9882098820988006, 49.34712246208014), (1.337413374133746, 50.127391978216195), (1.6398163981639868, 50.94659034222889), (2.5146251462514613, 51.148004816025406), (2.658626586265882, 50.79764518513568), (3.123031230312307, 50.780719599102355), (3.5874358743587607, 50.379583210112656), (4.285842858428595, 49.907359359783044), (4.80064800648006, 49.98521705553631), (5.675456754567563, 49.52991879123999)])\n",
    "norway_polygon = Polygon([(31.10251102511026, 69.55796474446768), (29.399693996939988, 69.15682835547801), (28.593285932859345, 69.06543019089807), (29.01449014490146, 69.76614945267752), (27.7328773287733, 70.16390072446055), (26.181261812618146, 69.82538900379416), (25.68805688056881, 69.0925111285514), (24.73404734047341, 68.64906077447839), (23.66123661236614, 68.89109665475488), (22.358023580235823, 68.84201245525824), (21.245612456124576, 69.37009073949784), (20.644406444064458, 69.10605159737804), (20.02520025200252, 69.06543019089807), (19.877598775987764, 68.40702489420192), (17.994779947799486, 68.56781796151847), (17.728377283772858, 68.01096618102224), (16.76716767167673, 68.01435129822889), (16.108361083610845, 67.30178412622612), (15.10755107551077, 66.19315824104365), (13.55593555935559, 64.78664204167475), (13.919539195391962, 64.44474520380169), (13.570335703357046, 64.048686490622), (12.580325803258035, 64.0656120766553), (11.93231932319324, 63.12793461040937), (11.993519935199345, 61.80096866539708), (12.630726307263075, 61.29320108439748), (12.29952299522995, 60.11856541368505), (11.467914679146787, 59.43307917933561), (11.028710287102882, 58.855916695599376), (10.355503555035568, 59.4703154686089), (8.382683826838274, 58.31260538392979), (7.0470704707047105, 58.07903229666999), (5.6646566465664705, 58.58849243627293), (5.308253082530825, 59.66326714938876), (4.991449914499157, 61.97022452573029), (5.913059130591307, 62.615089353599785), (8.551885518855187, 63.45459842085245), (10.528305283052845, 64.48536661028166), (12.357123571235718, 65.88003489942722), (14.761947619476189, 67.81124426582906), (16.435964359643606, 68.56274028570846), (19.182791827918294, 69.8169262107775), (21.378813788137876, 70.25529888904046), (23.02403024030241, 70.20282957233718), (24.546845468454705, 71.03049072936653), (26.36846368463685, 70.98648420567991), (28.164881648816504, 71.18620612087307), (31.29331293312933, 70.45332824563033), (30.00450004500047, 70.18590398630386), (31.10251102511026, 69.55796474446768)])\n",
    "gdf.at[55,'geometry'] = france_polygon\n",
    "gdf.at[118,'geometry'] = norway_polygon\n",
    "\n",
    "# Concat shape information and production information so we don't have to use a lookup transformation\n",
    "df_med = df_med.merge(gdf.astype({'id': 'int64'}), how='inner', on='id')\n",
    "\n",
    "df_med = gpd.GeoDataFrame(df_med)\n",
    "\n",
    "df_mort = df_mort.merge(gdf.astype({'id': 'int64'}), how='inner', on='id')\n",
    "\n",
    "df_mort = gpd.GeoDataFrame(df_mort)\n",
    "\n",
    "df_med = df_med.replace({\"United Kingdom of Great Britain and Northern Ireland\":\"United Kingdom\"})\n",
    "df_mort= df_mort.replace({\"United Kingdom of Great Britain and Northern Ireland\":\"United Kingdom\"})\n",
    "df_europe = df_europe.replace({\"United Kingdom of Great Britain and Northern Ireland\":\"United Kingdom\"})"
   ]
  },
  {
   "cell_type": "markdown",
   "metadata": {
    "id": "_Ovx1kxD4Bb2"
   },
   "source": [
    "## **Creating the Visualization**\n",
    "**Definding the selectors**"
   ]
  },
  {
   "cell_type": "code",
   "execution_count": 15,
   "metadata": {
    "executionInfo": {
     "elapsed": 2,
     "status": "ok",
     "timestamp": 1651032231464,
     "user": {
      "displayName": "Jordan Wells",
      "userId": "11279238104867312655"
     },
     "user_tz": 300
    },
    "id": "_ep_vu0dLi_s"
   },
   "outputs": [],
   "source": [
    "med_domain = df_med['Variable'].unique()\n",
    "mort_domain = df_mort['Variable'].unique()\n",
    "\n",
    "medicine_dropdown = alt.binding_select(options=med_domain, name=\"Filter by Medicine Type:\")\n",
    "medicine_select = alt.selection_single(fields=['Variable'], bind=medicine_dropdown, name=\"Filter by Medicine Types\", \n",
    "                                       init ={'Variable':'A-Alimentary tract and metabolism'} )\n",
    "                                      \n",
    "\n",
    "mort_dropdown = alt.binding_select(options=mort_domain, name=\"Filter by Mortality Type:\")\n",
    "mort_select = alt.selection_single(fields=['Variable'], bind=mort_dropdown, name=\"Filter by Cause of Mortality\",\n",
    "                                   init = {'Variable':'Certain infectious and parasitic diseases'})\n",
    "                                \n",
    "\n",
    "\n",
    "\n",
    "# Defining year slider\n",
    "slider = alt.binding_range(name = \"Select Year:\", min=2010, max=2020, step=1)\n",
    "select_year = alt.selection_single(fields=['Year'], bind=slider, init={'Year': 2010})\n",
    "\n",
    "# Defining country selecter for line chart\n",
    "select_country = alt.selection_multi(fields = [\"Country\"])"
   ]
  },
  {
   "cell_type": "markdown",
   "metadata": {
    "id": "WsKwmapYL0Uu"
   },
   "source": [
    "**Creating the background world map**"
   ]
  },
  {
   "cell_type": "code",
   "execution_count": 16,
   "metadata": {
    "executionInfo": {
     "elapsed": 227,
     "status": "ok",
     "timestamp": 1651032231911,
     "user": {
      "displayName": "Jordan Wells",
      "userId": "11279238104867312655"
     },
     "user_tz": 300
    },
    "id": "fDbGXuxzLzCy"
   },
   "outputs": [],
   "source": [
    "dom = [1]\n",
    "rng = [\"gray\"]\n",
    "\n",
    "\n",
    "# Creating the background world map\n",
    "worldmap = alt.Chart(gdf).mark_geoshape(\n",
    "    stroke='black',\n",
    ").encode(\n",
    "    fill=alt.Fill('Encoding:Q', scale=alt.\n",
    "                  Scale(domain=dom, range=rng), legend = None),\n",
    "    tooltip=[\"Country:N\"]\n",
    ").transform_lookup(\n",
    "    lookup = \"id\",\n",
    "    from_=alt.LookupData(df_europe, key = \"id\", fields = [\"Encoding\", \"Country\"])\n",
    ")"
   ]
  },
  {
   "cell_type": "markdown",
   "metadata": {
    "id": "M22ECfUsL8tW"
   },
   "source": [
    "**Creating the Medicine display**"
   ]
  },
  {
   "cell_type": "code",
   "execution_count": 21,
   "metadata": {
    "executionInfo": {
     "elapsed": 1655,
     "status": "ok",
     "timestamp": 1651032283142,
     "user": {
      "displayName": "Jordan Wells",
      "userId": "11279238104867312655"
     },
     "user_tz": 300
    },
    "id": "Umxs1_YZL8X7"
   },
   "outputs": [],
   "source": [
    "# Creating the choloropeth on top\n",
    "choropleth_med = alt.Chart(df_med).mark_geoshape().encode(\n",
    "    color=alt.condition(select_country, alt.Color(\"Value:Q\", scale=alt.Scale(domain = [0,1000])), alt.value('lightgray'),title ='Defined daily dosage per 1,000 inhabitants per day'),\n",
    "    tooltip = [\"Country:N\", \"Value:Q\", \"Year:Q\"],\n",
    ").add_selection(\n",
    "    select_year,\n",
    "    select_country,\n",
    "    medicine_select\n",
    ").transform_filter(\n",
    "    select_year & medicine_select\n",
    ")\n",
    "\n",
    "\n",
    "bar_med = alt.Chart(df_med).mark_bar(size = 10).encode(\n",
    "    x=alt.X(\"Value:Q\",scale =alt.Scale(domain = [0,1000]),title = 'Defined daily dosage per 1,000 inhabitants per day'),\n",
    "    y=alt.Y(\"Country:N\"),\n",
    "    color=alt.condition(select_country, alt.Color('Country:N', scale=alt.Scale(scheme='dark2', domain = countries)), alt.value('lightgray'))\n",
    ").transform_filter(\n",
    "    select_year & medicine_select\n",
    ").properties(\n",
    "    width = 400,\n",
    "    height = 300\n",
    ")\n",
    "\n",
    "# Creating the accompanying country line chart\n",
    "line_chart_med = alt.Chart(df_med).mark_line().encode(\n",
    "    x = alt.X(\"Year:Q\", axis=alt.Axis(format='d')),\n",
    "    y = alt.Y(\"Value:Q\", title ='Defined daily dosage per 1,000 inhabitants per day'),\n",
    "    color=alt.condition(select_country, alt.Color('Country:N', \n",
    "                        scale=alt.Scale(scheme='dark2', domain = countries)), \n",
    "                        alt.value('lightgray'))\n",
    ").properties(\n",
    "    title = \"Medicines across Time\",\n",
    "    width = 400,\n",
    "    height = 300\n",
    ").add_selection(\n",
    "    select_country,\n",
    "    medicine_select\n",
    ").transform_filter(\n",
    "    medicine_select\n",
    ")\n",
    "\n",
    "year_line = alt.Chart(df_med).mark_rule().encode(\n",
    "   x = alt.X(\"Year:Q\", axis=alt.Axis(format='d')),\n",
    ").transform_filter(\n",
    "    select_year\n",
    ")\n",
    "\n",
    "\n",
    "# Create combined pharma display\n",
    "med_display = (alt.layer(worldmap, choropleth_med).properties(\n",
    "    title = \"Medicines in Europe\",\n",
    "    width = 400,\n",
    "    height = 600\n",
    ").project('mercator')) | ((line_chart_med + year_line) & bar_med) \n"
   ]
  },
  {
   "cell_type": "markdown",
   "metadata": {
    "id": "1uYI9X1xMQXf"
   },
   "source": [
    "**Creating the Mortality Display**"
   ]
  },
  {
   "cell_type": "code",
   "execution_count": 22,
   "metadata": {
    "executionInfo": {
     "elapsed": 1618,
     "status": "ok",
     "timestamp": 1651032284746,
     "user": {
      "displayName": "Jordan Wells",
      "userId": "11279238104867312655"
     },
     "user_tz": 300
    },
    "id": "MyY-ORuClyoU"
   },
   "outputs": [],
   "source": [
    "# Creating the choloropeth on top (mortality)\n",
    "choropleth_mort = alt.Chart(df_mort).mark_geoshape().encode(\n",
    "    color=alt.condition(select_country, alt.Color(\"Value:Q\", scale=alt.Scale(domain = [0,100])), alt.value('lightgray'),title = 'Deaths per 100,000 population (standardised rates)'),\n",
    "    tooltip = [\"Country:N\", \"Value:Q\", \"Year:Q\"],\n",
    ").add_selection(\n",
    "    select_year,\n",
    "    select_country,\n",
    "    medicine_select\n",
    ").transform_filter(\n",
    "    select_year & mort_select\n",
    ")\n",
    "\n",
    "\n",
    "bar_mort = alt.Chart(df_mort).mark_bar(size = 10).encode(\n",
    "    x=alt.X(\"Value:Q\",scale =alt.Scale(domain = [0,150]),title = 'Deaths per 100,000 population (standardised rates)'),\n",
    "    y=alt.X(\"Country:N\"),\n",
    "    color=alt.condition(select_country, alt.Color('Country:N', scale=alt.Scale(scheme='dark2', domain = countries)), alt.value('lightgray'))\n",
    ").transform_filter(\n",
    "    select_year & mort_select\n",
    ").properties(\n",
    "    width = 400,\n",
    "    height = 300\n",
    ")\n",
    "\n",
    "\n",
    "\n",
    "# Creating the accompanying country line chart (mortality)\n",
    "line_chart_mort = alt.Chart(df_mort).mark_line().encode(\n",
    "    x = alt.X(\"Year:Q\", axis=alt.Axis(format='d'), scale=alt.Scale(domain = [2010, 2020])),\n",
    "    y = alt.Y(\"Value:Q\", title = 'Deaths per 100,000 population (standardised rates)'),\n",
    "    color=alt.condition(select_country, alt.Color('Country:N', scale=alt.Scale(scheme='dark2', domain = countries)), alt.value('lightgray'))\n",
    ").properties(\n",
    "    title = \"Mortality across Time\",\n",
    "    width = 400,\n",
    "    height = 300\n",
    ").add_selection(\n",
    "    select_country,\n",
    "    mort_select\n",
    ").transform_filter(\n",
    "    mort_select\n",
    ")\n",
    "\n",
    "#Create combined mortality display\n",
    "mort_display = (alt.layer(worldmap, choropleth_mort).properties(\n",
    "    title = \"Mortalities in Europe\",\n",
    "    width = 400,\n",
    "    height = 600\n",
    ").project('mercator')) |  ((line_chart_mort + year_line) & bar_mort)"
   ]
  },
  {
   "cell_type": "code",
   "execution_count": 23,
   "metadata": {
    "colab": {
     "base_uri": "https://localhost:8080/",
     "height": 825,
     "output_embedded_package_id": "198f9Y7R-cEyvpV0r5EybkUUmEPOwQeMc"
    },
    "executionInfo": {
     "elapsed": 16102,
     "status": "ok",
     "timestamp": 1651032300825,
     "user": {
      "displayName": "Jordan Wells",
      "userId": "11279238104867312655"
     },
     "user_tz": 300
    },
    "id": "H1HrtAFbJ_zf",
    "outputId": "6a58926f-a369-4ffc-adb6-ca17eabfd53a"
   },
   "outputs": [
    {
     "data": {
      "text/plain": [
       "Output hidden; open in https://colab.research.google.com to view."
      ]
     },
     "metadata": {},
     "output_type": "display_data"
    }
   ],
   "source": [
    "#Combine the two displays\n",
    "(med_display) | mort_display"
   ]
  },
  {
   "cell_type": "code",
   "execution_count": 24,
   "metadata": {
    "executionInfo": {
     "elapsed": 11572,
     "status": "ok",
     "timestamp": 1651032312385,
     "user": {
      "displayName": "Jordan Wells",
      "userId": "11279238104867312655"
     },
     "user_tz": 300
    },
    "id": "ooP5v9STMwdd"
   },
   "outputs": [],
   "source": [
    "(med_display | mort_display).save(\"vizaceuticals.html\")"
   ]
  },
  {
   "cell_type": "code",
   "execution_count": 20,
   "metadata": {
    "executionInfo": {
     "elapsed": 42,
     "status": "ok",
     "timestamp": 1651032261820,
     "user": {
      "displayName": "Jordan Wells",
      "userId": "11279238104867312655"
     },
     "user_tz": 300
    },
    "id": "X6XKTQXCL8ga"
   },
   "outputs": [],
   "source": []
  }
 ],
 "metadata": {
  "colab": {
   "collapsed_sections": [],
   "name": "Viz-aceuticals Alpha",
   "provenance": []
  },
  "kernelspec": {
   "display_name": "Python 3",
   "language": "python",
   "name": "python3"
  },
  "language_info": {
   "codemirror_mode": {
    "name": "ipython",
    "version": 3
   },
   "file_extension": ".py",
   "mimetype": "text/x-python",
   "name": "python",
   "nbconvert_exporter": "python",
   "pygments_lexer": "ipython3",
   "version": "3.9.1"
  }
 },
 "nbformat": 4,
 "nbformat_minor": 1
}
